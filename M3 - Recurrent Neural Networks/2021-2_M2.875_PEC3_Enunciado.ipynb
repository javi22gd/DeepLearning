{
 "cells": [
  {
   "cell_type": "markdown",
   "metadata": {
    "id": "YO1mZRrP4FT2"
   },
   "source": [
    "<div style=\"width: 100%; clear: both;\">\n",
    "<div style=\"float: left; width: 50%;\">\n",
    "<img src=\"http://www.uoc.edu/portal/_resources/common/imatges/marca_UOC/UOC_Masterbrand.jpg\", align=\"left\">\n",
    "</div>\n",
    "<div style=\"float: right; width: 50%;\">\n",
    "<p style=\"margin: 0; padding-top: 22px; text-align:right;\">M2.875 · Deep Learning · PEC3\n",
    "</p>\n",
    "<p style=\"margin: 0; text-align:right;\">2021-2 · Máster universitario en Ciencia de datos (Data science)</p>\n",
    "<p style=\"margin: 0; text-align:right; padding-button: 100px;\">Estudios de Informática, Multimedia y Telecomunicación</p>\n",
    "</div>\n",
    "</div>\n",
    "<div style=\"width:100%;\">&nbsp;</div>\n",
    "\n",
    "\n",
    "# PEC 3: Recurrent Neural Networks\n",
    "\n",
    "En esta práctica implementaremos redes neuronales recurrentes para generar música.\n",
    "\n",
    "**Importante: La entrega debe hacerse en formato notebook y en formato html donde se vea el código y los resultados y comentarios de cada ejercicio. Para exportar el notebook a html puede hacerse desde el menú File $\\to$ Download as $\\to$ HTML.**"
   ]
  },
  {
   "cell_type": "markdown",
   "metadata": {},
   "source": [
    "<div class=\"alert alert-block alert-success\">\n",
    "<strong>Javier Gómez de Diego</strong>\n",
    "</div>"
   ]
  },
  {
   "cell_type": "markdown",
   "metadata": {
    "id": "8rXYszqtPC3X"
   },
   "source": [
    "# 0. Contexto y referencias"
   ]
  },
  {
   "cell_type": "markdown",
   "metadata": {
    "id": "23HcctV9PHD8"
   },
   "source": [
    "Esta PEC está basada en el siguiente [artículo de investigación](https://arxiv.org/pdf/1711.07682.pdf), aunque por motivos de extensión no podremos pasar por todos los puntos del artículo.\n",
    "\n",
    "La primera etapa de esta PEC será leer y entender la idea general de este trabajo. El artículo os da acceso al código original con el que se ha llevado a cabo el trabajo y en el que además esta basado gran parte del código que aquí os adjuntamos, aunque por la complejidad y extensión del código no os recomendamos que sumergáis demasiado en él.\n",
    "\n",
    "La PEC consta de una etapa de ***interpretación de los datos*** (un paso vital en todo proyecto real), donde se pedirá reproducir una gráfica del artículo. Luego ***entrenaremos*** una red LSTM para generar acordes a partir de archivos MIDI. Finalmente, usaremos la capa de ***embedding*** de la red entrenada para hacer una proyección de los acordes en 2D y visualizar el concepto de [word2vec](https://en.wikipedia.org/wiki/Word2vec)."
   ]
  },
  {
   "cell_type": "markdown",
   "metadata": {
    "id": "yAJEhzrBUoNj"
   },
   "source": [
    "Además de este fichero os hemos adjuntado un archivo comprimido con una estructura de datos similar a la usada en el artículo y que os recomendamos (por vuestro bien) que no modifiquéis :). Allí encontraréis una carpeta llamada *data* donde se encuentra la base de datos que usaremos y otros ficheros que os facilitamos con datos de redes ya entrenadas (en la carpeta *models*)"
   ]
  },
  {
   "cell_type": "markdown",
   "metadata": {
    "id": "TNeJCTqGN6M0"
   },
   "source": [
    "# 1. Procesado de datos [2.5 pts]"
   ]
  },
  {
   "cell_type": "markdown",
   "metadata": {
    "id": "HFZhc-3gh3BA"
   },
   "source": [
    "## 1.1 Importación de módulos y paquetes necesarios"
   ]
  },
  {
   "cell_type": "code",
   "execution_count": 1,
   "metadata": {
    "id": "47q84NyONZf_"
   },
   "outputs": [
    {
     "name": "stdout",
     "output_type": "stream",
     "text": [
      "C:\\Users\\javi2\\OneDrive - Universitat Oberta de Catalunya\\UOC\\2º Semestre\\Deep Learning\\Módulo 3\\PEC 3\\PEC3_PAC3\n"
     ]
    }
   ],
   "source": [
    "# añade el path a tu directorio\n",
    "%cd PEC3_PAC3"
   ]
  },
  {
   "cell_type": "code",
   "execution_count": 2,
   "metadata": {
    "id": "-aQnhJf8OVia"
   },
   "outputs": [],
   "source": [
    "import numpy as np\n",
    "import matplotlib.pyplot as plt\n",
    "import _pickle as pickle\n",
    "import os\n",
    "import sys\n",
    "import pretty_midi as pm\n",
    "import mido\n",
    "from collections import Counter\n",
    "import collections\n",
    "import pandas as pd"
   ]
  },
  {
   "cell_type": "markdown",
   "metadata": {
    "id": "bqTy38QPXdz8"
   },
   "source": [
    "Importamos módulos propios (archivos .py) que podréis encontrar en la estructura de carpetas que os hemos facilitado"
   ]
  },
  {
   "cell_type": "code",
   "execution_count": 3,
   "metadata": {
    "id": "A8hOlwmbXdGD"
   },
   "outputs": [],
   "source": [
    "from settings import *\n",
    "import midi_functions as mf \n",
    "import data_processing_functions as dpf"
   ]
  },
  {
   "cell_type": "markdown",
   "metadata": {
    "id": "d457Myp0iAC6"
   },
   "source": [
    "## 1.2 Ficheros MIDI [1 pt]"
   ]
  },
  {
   "cell_type": "markdown",
   "metadata": {
    "id": "OkBli7noiYXJ"
   },
   "source": [
    "En esta sección vamos a entender un poco mejor la información que contiene un fichero MIDI y reproduciremos un archivo de nuestra base de datos. Para esta sección os recomendamos que le echéis un vistazo a la sección \"*Extract notes*\" del siguiente [tutorial de tensorflow](https://www.tensorflow.org/tutorials/audio/music_generation)."
   ]
  },
  {
   "cell_type": "markdown",
   "metadata": {
    "id": "QWjhouM0kHcD"
   },
   "source": [
    "1.2.1 Escoger un fichero MIDI de la base de datos y crear las funciones necesarias para extraer las notas, el tiempo en que se toca cada nota, su duración y el momento en que se tocan. Este proceso se debe aplicar solo a un instrumento: **\"Acoustic Grand Piano\"**. \n",
    "\n",
    "*Nota: Si el fichero escogido no tiene piano elegir otro fichero*"
   ]
  },
  {
   "cell_type": "code",
   "execution_count": 4,
   "metadata": {},
   "outputs": [
    {
     "data": {
      "text/html": [
       "<div>\n",
       "<style scoped>\n",
       "    .dataframe tbody tr th:only-of-type {\n",
       "        vertical-align: middle;\n",
       "    }\n",
       "\n",
       "    .dataframe tbody tr th {\n",
       "        vertical-align: top;\n",
       "    }\n",
       "\n",
       "    .dataframe thead th {\n",
       "        text-align: right;\n",
       "    }\n",
       "</style>\n",
       "<table border=\"1\" class=\"dataframe\">\n",
       "  <thead>\n",
       "    <tr style=\"text-align: right;\">\n",
       "      <th></th>\n",
       "      <th>Nombre</th>\n",
       "      <th>Nota</th>\n",
       "      <th>Comienzo</th>\n",
       "      <th>Fin</th>\n",
       "      <th>Duración</th>\n",
       "      <th>Step</th>\n",
       "    </tr>\n",
       "  </thead>\n",
       "  <tbody>\n",
       "    <tr>\n",
       "      <th>0</th>\n",
       "      <td>C#4</td>\n",
       "      <td>61</td>\n",
       "      <td>163.15</td>\n",
       "      <td>163.941667</td>\n",
       "      <td>0.791667</td>\n",
       "      <td>0.0</td>\n",
       "    </tr>\n",
       "    <tr>\n",
       "      <th>1</th>\n",
       "      <td>A3</td>\n",
       "      <td>57</td>\n",
       "      <td>163.15</td>\n",
       "      <td>163.941667</td>\n",
       "      <td>0.791667</td>\n",
       "      <td>0.0</td>\n",
       "    </tr>\n",
       "    <tr>\n",
       "      <th>2</th>\n",
       "      <td>E4</td>\n",
       "      <td>64</td>\n",
       "      <td>163.35</td>\n",
       "      <td>163.541667</td>\n",
       "      <td>0.191667</td>\n",
       "      <td>0.2</td>\n",
       "    </tr>\n",
       "    <tr>\n",
       "      <th>3</th>\n",
       "      <td>A4</td>\n",
       "      <td>69</td>\n",
       "      <td>163.55</td>\n",
       "      <td>163.741667</td>\n",
       "      <td>0.191667</td>\n",
       "      <td>0.2</td>\n",
       "    </tr>\n",
       "    <tr>\n",
       "      <th>4</th>\n",
       "      <td>E5</td>\n",
       "      <td>76</td>\n",
       "      <td>163.75</td>\n",
       "      <td>164.141667</td>\n",
       "      <td>0.391667</td>\n",
       "      <td>0.2</td>\n",
       "    </tr>\n",
       "    <tr>\n",
       "      <th>...</th>\n",
       "      <td>...</td>\n",
       "      <td>...</td>\n",
       "      <td>...</td>\n",
       "      <td>...</td>\n",
       "      <td>...</td>\n",
       "      <td>...</td>\n",
       "    </tr>\n",
       "    <tr>\n",
       "      <th>70</th>\n",
       "      <td>B3</td>\n",
       "      <td>59</td>\n",
       "      <td>185.35</td>\n",
       "      <td>185.541667</td>\n",
       "      <td>0.191667</td>\n",
       "      <td>0.2</td>\n",
       "    </tr>\n",
       "    <tr>\n",
       "      <th>71</th>\n",
       "      <td>E4</td>\n",
       "      <td>64</td>\n",
       "      <td>185.55</td>\n",
       "      <td>185.741667</td>\n",
       "      <td>0.191667</td>\n",
       "      <td>0.2</td>\n",
       "    </tr>\n",
       "    <tr>\n",
       "      <th>72</th>\n",
       "      <td>A3</td>\n",
       "      <td>57</td>\n",
       "      <td>185.55</td>\n",
       "      <td>187.541667</td>\n",
       "      <td>1.991667</td>\n",
       "      <td>0.0</td>\n",
       "    </tr>\n",
       "    <tr>\n",
       "      <th>73</th>\n",
       "      <td>D4</td>\n",
       "      <td>62</td>\n",
       "      <td>185.75</td>\n",
       "      <td>186.141667</td>\n",
       "      <td>0.391667</td>\n",
       "      <td>0.2</td>\n",
       "    </tr>\n",
       "    <tr>\n",
       "      <th>74</th>\n",
       "      <td>C#4</td>\n",
       "      <td>61</td>\n",
       "      <td>186.15</td>\n",
       "      <td>187.541667</td>\n",
       "      <td>1.391667</td>\n",
       "      <td>0.4</td>\n",
       "    </tr>\n",
       "  </tbody>\n",
       "</table>\n",
       "<p>75 rows × 6 columns</p>\n",
       "</div>"
      ],
      "text/plain": [
       "   Nombre  Nota  Comienzo         Fin  Duración  Step\n",
       "0     C#4    61    163.15  163.941667  0.791667   0.0\n",
       "1      A3    57    163.15  163.941667  0.791667   0.0\n",
       "2      E4    64    163.35  163.541667  0.191667   0.2\n",
       "3      A4    69    163.55  163.741667  0.191667   0.2\n",
       "4      E5    76    163.75  164.141667  0.391667   0.2\n",
       "..    ...   ...       ...         ...       ...   ...\n",
       "70     B3    59    185.35  185.541667  0.191667   0.2\n",
       "71     E4    64    185.55  185.741667  0.191667   0.2\n",
       "72     A3    57    185.55  187.541667  1.991667   0.0\n",
       "73     D4    62    185.75  186.141667  0.391667   0.2\n",
       "74    C#4    61    186.15  187.541667  1.391667   0.4\n",
       "\n",
       "[75 rows x 6 columns]"
      ]
     },
     "execution_count": 4,
     "metadata": {},
     "output_type": "execute_result"
    }
   ],
   "source": [
    "def get_notes(mf: str) -> pd.DataFrame:\n",
    "    p = pm.PrettyMIDI(mf)\n",
    "    instrument = p.instruments[0]\n",
    "    notes = collections.defaultdict(list)\n",
    "    \n",
    "    # Sort notes by start time\n",
    "    sorted_notes = sorted(instrument.notes, key=lambda note: note.start)\n",
    "    prev_start = sorted_notes[0].start\n",
    "    \n",
    "    for note in sorted_notes:\n",
    "        start = note.start\n",
    "        end = note.end\n",
    "        gnn = np.vectorize(pm.note_number_to_name)\n",
    "        notes['Nombre'].append(gnn(note.pitch))\n",
    "        notes['Nota'].append(note.pitch)\n",
    "        notes['Comienzo'].append(start)\n",
    "        notes['Fin'].append(end)\n",
    "        notes['Duración'].append(end - start)\n",
    "        notes['Step'].append(start - prev_start)\n",
    "        prev_start = start\n",
    "    \n",
    "    return pd.DataFrame({name: np.array(value) for name, value in notes.items()})\n",
    "\n",
    "n = [str(os.getcwd() + '/data/original/' + names) for names in os.listdir(str(os.getcwd() + '/data/original'))]\n",
    "get_notes(n[6])"
   ]
  },
  {
   "cell_type": "markdown",
   "metadata": {
    "id": "bvOkNBItrqIZ"
   },
   "source": [
    "1.2.2 Modificar la funcion *plot_piano_roll* del tutorial para poder graficar el pianoroll de la canción MIDI escogida. En este caso deberemos poder indicar un tiempo máximo de la canción que queremos añadir en el pianoroll. Además, si pasamos un *max_time=-1*, se deberán graficar todas las notas de la canción"
   ]
  },
  {
   "cell_type": "code",
   "execution_count": 5,
   "metadata": {
    "id": "THE0cdxNCXwH"
   },
   "outputs": [
    {
     "data": {
      "image/png": "[encoded data removed]",
      "text/plain": [
       "<Figure size 1440x432 with 1 Axes>"
      ]
     },
     "metadata": {
      "needs_background": "light"
     },
     "output_type": "display_data"
    }
   ],
   "source": [
    "def plot_piano_roll(notes: pd.DataFrame, max_time: float):\n",
    "    if (max_time < notes['Comienzo'].loc[0] and max_time!=-1):\n",
    "        print('Nada que mostrar: max_time debe ser == -1 (mostrar todas las notas) o >', round(notes['Comienzo'].loc[0], 2), '(comienzo de la primera nota)')\n",
    "    else:\n",
    "        if max_time == -1:\n",
    "            title = 'Todas las notas'\n",
    "            max_time = max(notes['Fin'])\n",
    "        else:\n",
    "            title = str('Hasta ' + str(max_time) + ' segundos')\n",
    "            count = len(notes['Nota'])\n",
    "        \n",
    "        t=[]\n",
    "        c=[]\n",
    "        f=[]\n",
    "        for i in range(len(notes)):\n",
    "            if notes['Comienzo'].loc[i] < max_time:\n",
    "                t.append(notes['Nota'].loc[i])\n",
    "                c.append(notes['Comienzo'].loc[i])\n",
    "                if notes['Fin'].loc[i] > max_time:\n",
    "                    f.append(max_time)\n",
    "                else: f.append(notes['Fin'].loc[i])\n",
    "            else: break\n",
    "        \n",
    "        plt.figure(figsize=(20, 6))\n",
    "        plot_pitch = np.stack([t, t], axis=0)\n",
    "        plot_start_stop = np.stack([c, f], axis=0)\n",
    "        plt.plot(\n",
    "            plot_start_stop, plot_pitch, color=\"b\", marker=\".\")\n",
    "        plt.xlabel('Tiempo (s)')\n",
    "        plt.ylabel('Nota')\n",
    "        plt.yticks(notes['Nota'], labels = notes['Nombre'], fontsize=9)\n",
    "        _ = plt.title(title)\n",
    "\n",
    "plot_piano_roll(get_notes(n[6]), -1)"
   ]
  },
  {
   "cell_type": "markdown",
   "metadata": {
    "id": "Ry5uiuVywVb9"
   },
   "source": [
    "## 1.3 Procesado de datos [1.5 pts]"
   ]
  },
  {
   "cell_type": "markdown",
   "metadata": {
    "id": "Qhk-FbIVwfYH"
   },
   "source": [
    "Ahora volvemos al artículo y aplicaremos el procesado de datos. Buscar dentro del fichero *data_processing_functions.py* la función que se encarga de llevar a cabo todo el procesado de datos y llamarla desde aquí"
   ]
  },
  {
   "cell_type": "code",
   "execution_count": 6,
   "metadata": {},
   "outputs": [
    {
     "name": "stdout",
     "output_type": "stream",
     "text": [
      "changing Tempo\n",
      "histogramming\n",
      "data/tempo/\n"
     ]
    },
    {
     "name": "stderr",
     "output_type": "stream",
     "text": [
      "D:\\Programas\\Python\\anaconda3\\lib\\site-packages\\pretty_midi\\pretty_midi.py:96: RuntimeWarning: Tempo, Key or Time signature change events found on non-zero tracks.  This is not a valid type 0 or type 1 MIDI file.  Tempo, Key or Time Signature may be wrong.\n",
      "  warnings.warn(\n"
     ]
    },
    {
     "name": "stdout",
     "output_type": "stream",
     "text": [
      "make song histo\n",
      "shifting midi files\n",
      "making note indexes\n",
      "histogramming\n",
      "data/shifted/tempo/\n",
      "extracting chords\n",
      "getting dictionary\n",
      "converting chords to index sequences\n",
      "done\n"
     ]
    }
   ],
   "source": [
    "dpf.do_all_steps()"
   ]
  },
  {
   "cell_type": "markdown",
   "metadata": {
    "id": "C_LOJsQR1WGH"
   },
   "source": [
    "1.3.1 ¿Qué hace la función *change_tempo_folder*?¿Qué bpm fija para las canciones?"
   ]
  },
  {
   "cell_type": "markdown",
   "metadata": {
    "id": "KAP_DAD8ChAl"
   },
   "source": [
    "<div class=\"alert alert-block alert-success\">\n",
    "<strong>Respuesta:</strong><br>\n",
    "\n",
    "<font color=#679532>Reescribe el archivo MIDI indicado en una nueva carpeta indicada, manteniendo los mismos <b>bpm</b> -<i>ticks_per_minute</i>- (<i>new_mid.ticks_per_beat</i> = <i>mid.ticks_per_beat</i>).\n",
    "\n",
    "</div>"
   ]
  },
  {
   "cell_type": "markdown",
   "metadata": {
    "id": "l5DNt93c32tc"
   },
   "source": [
    "1.3.2 Una vez tenemos ejecutado el procesado de datos se habrán creado muchas carpetas y muchos ficheros nuevos en la actual carpeta ***data***. Ahora usaremos algunos de estos ficheros para construir la figura 2 del artículo usando los datos procesados. Crearemos dos funciones:\n",
    "*   my_save_histo_oct_from_midi_folder\n",
    "*   my_midi_to_histo_oct\n",
    "\n",
    "basadas en las funciones ***save_histo_oct_from_midi_folder*** y ***midi_to_histo_oct*** que encontraréis en los ficheros ***midi_functions.py*** y ***data_processing_functions.py***. Ahora las modificaremos para que nos devuelvan datos para dos tipos de histogramas: uno igual a la figura 2 del artículo (apariciones VS pitch) y otro, usando el *histo_oct*, que serán datos para graficar *apariciones VS notas en cualquier octava*, es decir, el número de veces que aparece una nota (sin importar a que octava pertenezca) a lo largo de una canción."
   ]
  },
  {
   "cell_type": "markdown",
   "metadata": {
    "id": "vHNEdanvAzLp"
   },
   "source": [
    "\n",
    "*Indicación: Es importante entender la estructura de las variables:*\n",
    "*   pianoroll\n",
    "*   histo_bar\n",
    "*   histo_oct\n",
    "\n",
    "*dentro de la funcion* ***midi_to_histo_oct***"
   ]
  },
  {
   "cell_type": "code",
   "execution_count": 7,
   "metadata": {
    "id": "IygIfEr3_z8_"
   },
   "outputs": [],
   "source": [
    "#usa este vector como labels del segundo gráfico \n",
    "notas_en_una_octava = ['C','C#','D','D#','E','F','F#','G','G#','A','A#','B']"
   ]
  },
  {
   "cell_type": "code",
   "execution_count": 8,
   "metadata": {
    "id": "PuDexJSYCjo2"
   },
   "outputs": [],
   "source": [
    "def my_save_histo_oct_from_midi_folder(tempo_folder, histo_folder):\n",
    "    nfiles=0\n",
    "    ahisto_bar = [0] * 128\n",
    "    ahisto_oct = [0] * 12\n",
    "    for path, subdirs, files in os.walk(tempo_folder):\n",
    "        for name in files:\n",
    "            _path = path.replace('\\\\', '/') + '/'\n",
    "            _name = name.replace('\\\\', '/')\n",
    "            target_path = histo_folder+_path[len(tempo_folder):]\n",
    "            if not os.path.exists(target_path):\n",
    "                os.makedirs(target_path)\n",
    "            try:\n",
    "                nfiles+=1\n",
    "                if nfiles%100==0:\n",
    "                      print(\"File #\",nfiles,\"Current file = \",_path,\"/\",_name) \n",
    "                ahb, aho = my_midi_to_histo_oct(samples_per_bar, octave, fs, _name, _path, target_path)\n",
    "                ahbt = []\n",
    "                ahot = []\n",
    "                for i in range(len(ahb)):\n",
    "                    ahbt.append(sum(ahb[i]))\n",
    "                    if i < len(aho):\n",
    "                        ahot.append(sum(aho[i]))\n",
    "                ahisto_bar = np.add(ahisto_bar, ahbt)\n",
    "                ahisto_oct = np.add(ahisto_oct, ahot)\n",
    "                #ahisto_bar.append(ahbt)\n",
    "                #ahisto_oct.append(ahot)\n",
    "            except (ValueError, EOFError, IndexError, OSError, KeyError, ZeroDivisionError) as e:\n",
    "                exception_str = 'Unexpected error in ' + name  + ':\\n', e, sys.exc_info()[0]\n",
    "                print(exception_str)\n",
    "    return ahisto_bar, ahisto_oct\n",
    "\n",
    "def my_midi_to_histo_oct(samples_per_bar,octave, fs, name, path, histo_path):\n",
    "#   print(path + name)\n",
    "    notes_in_songs = [0] * 128\n",
    "    octave_notes_in_songs = [0] * 12\n",
    "    pianoroll = mf.get_pianoroll(name, path, fs)\n",
    "    histo_bar = mf.pianoroll_to_histo_bar(pianoroll, samples_per_bar)\n",
    "    histo_oct = mf.histo_bar_to_histo_oct(histo_bar, octave)\n",
    "    pickle.dump(histo_oct,open(histo_path + name + '.pickle' , 'wb'))\n",
    "    return histo_bar, histo_oct"
   ]
  },
  {
   "cell_type": "code",
   "execution_count": 9,
   "metadata": {},
   "outputs": [
    {
     "data": {
      "image/png": "[encoded data removed]",
      "text/plain": [
       "<Figure size 1080x288 with 2 Axes>"
      ]
     },
     "metadata": {
      "needs_background": "light"
     },
     "output_type": "display_data"
    }
   ],
   "source": [
    "hb, ho = my_save_histo_oct_from_midi_folder(str(os.getcwd() + '/data/tempo'), str(os.getcwd() + '/data/histo'))\n",
    "\n",
    "fig, ax = plt.subplots(1, 2, figsize=(15, 4))\n",
    "\n",
    "ax[0].bar([i for i in range(len(hb))], hb)\n",
    "ax[0].set_title('Apariciones VS Pitch')\n",
    "ax[1].bar(notas_en_una_octava, ho, width = .5)\n",
    "ax[1].set_title('Apariciones VS Notas en cualquier octava')\n",
    "\n",
    "plt.tight_layout()"
   ]
  },
  {
   "cell_type": "markdown",
   "metadata": {
    "id": "RWEqYiSwDNse"
   },
   "source": [
    "1.3.3 Buscar en internet sobre las escalas musicales e indicar que escala es la que más aparece en todas las canciones analizadas. ¿Cuáles dirías que son las notas más importantes de la escala?"
   ]
  },
  {
   "cell_type": "code",
   "execution_count": 10,
   "metadata": {
    "id": "dz7cVn0uCkYT"
   },
   "outputs": [
    {
     "name": "stdout",
     "output_type": "stream",
     "text": [
      "Las notas más repetidas son: ['D4' 'E4' 'C4' 'A3' 'G4' 'A4' 'F4' 'D5' 'G3' 'C5']\n"
     ]
    }
   ],
   "source": [
    "scale = -np.sort(-hb)\n",
    "max_notes = []\n",
    "for i in scale[0:10]:\n",
    "    max_notes.append(np.where(hb == i)[0][0])\n",
    "    \n",
    "gnn = np.vectorize(pm.note_number_to_name)\n",
    "print('Las notas más repetidas son:',gnn(max_notes))"
   ]
  },
  {
   "cell_type": "markdown",
   "metadata": {
    "id": "KAP_DAD8ChAl"
   },
   "source": [
    "<div class=\"alert alert-block alert-success\">\n",
    "<strong>Respuesta:</strong><br>\n",
    "\n",
    "<font color=#679532>En base a las notas más repetidas, la escala que más encaja con éstas es la escala de <b><i>C mayor</i></b> (formada por las notas <b>C, D, E, F, G, A, B, C</b>; todas ellas entre las notas más repetidas), específicamente en la 4 octava. Además, se puede comprobar por la falta de sostenidos y bemoles (naturales de otras escalas) entre las notas más utilizadas.\n",
    "\n",
    "</div>"
   ]
  },
  {
   "cell_type": "markdown",
   "metadata": {
    "id": "r4r3sBgKy8bG"
   },
   "source": [
    "# 2. LSTM para acordes [5 pts]"
   ]
  },
  {
   "cell_type": "markdown",
   "metadata": {
    "id": "Z6wMsYrIzPMI"
   },
   "source": [
    "El siguiente paso en el artículo es el entrenamiento de una red LSTM para la generación de acordes. Esta parte la haremos con un data set más pequeño y lo compararemos con resultados de entrenamientos previos que os faciliaremos. Primero cargamos la librerias que necesitaremos"
   ]
  },
  {
   "cell_type": "code",
   "execution_count": 11,
   "metadata": {
    "id": "W_WNRwExGMqc"
   },
   "outputs": [],
   "source": [
    "from keras.models import Sequential\n",
    "from keras.layers import LSTM\n",
    "from keras.layers import Dense, Activation\n",
    "from keras.layers import Embedding\n",
    "from tensorflow.keras.optimizers import RMSprop, Adam\n",
    "import tensorflow as tf\n",
    "from tensorflow.compat.v1.keras.backend import set_session\n",
    "import keras.utils\n",
    "from keras.utils import np_utils\n",
    "from random import shuffle\n",
    "import progressbar\n",
    "import time"
   ]
  },
  {
   "cell_type": "markdown",
   "metadata": {
    "id": "W5pcyB6d0VIJ"
   },
   "source": [
    "## 2.1 Carga de datos [0.5 pts]"
   ]
  },
  {
   "cell_type": "markdown",
   "metadata": {
    "id": "xFE6WSN70S8m"
   },
   "source": [
    "2.1.1 En la carpeta ***data*** encontraréis un fichero llamado ***dataset.pkl*** que contiene 11338 canciones de train y 3780 de test. Usando *pickle* cargar los datos y luego separar 2000 para *train* y 500 canciones para *test* en las variables: \n",
    "*   train_set\n",
    "*   test_set\n",
    "\n",
    "Crea además *train_set_size* y *test_set_size*"
   ]
  },
  {
   "cell_type": "code",
   "execution_count": 12,
   "metadata": {
    "id": "b4oT9iNmCmFw"
   },
   "outputs": [
    {
     "name": "stdout",
     "output_type": "stream",
     "text": [
      "train_set_size: 2000 \n",
      "test_set_size: 500\n"
     ]
    }
   ],
   "source": [
    "x = open('data/dataset.pkl', 'rb')\n",
    "\n",
    "x1 = pickle.load(x)\n",
    "train_set = x1[0][:2000]\n",
    "test_set = x1[1][:500]\n",
    "train_set_size = len(train_set)\n",
    "test_set_size = len(test_set)\n",
    "print('train_set_size:', train_set_size,\n",
    "      '\\ntest_set_size:', test_set_size)\n",
    "\n",
    "x.close()"
   ]
  },
  {
   "cell_type": "markdown",
   "metadata": {
    "id": "AweMb9yv352X"
   },
   "source": [
    "## 2.2 Modelo con una capa de ***Embedding*** [0.5 pts]"
   ]
  },
  {
   "cell_type": "markdown",
   "metadata": {
    "id": "-If6wor_3_YG"
   },
   "source": [
    "2.2.1 Ahora definiremos los parámetros de nuestra red LSTM usando los parámetros que dan en el artículo. El único cambio será en el tamaño de la red LSTM, en la que usaremos la mitad de la LSTM del artículo y número de epochs que usaremos 10 en nuestro caso"
   ]
  },
  {
   "cell_type": "code",
   "execution_count": 13,
   "metadata": {
    "id": "JpqqH3X36URV"
   },
   "outputs": [],
   "source": [
    "batch_size = 1\n",
    "step_size = 1\n",
    "epochs = 10\n",
    "\n",
    "#completar\n",
    "lstm_size = 128\n",
    "learning_rate = 0.00001\n",
    "optimizer = 'Adam'"
   ]
  },
  {
   "cell_type": "markdown",
   "metadata": {
    "id": "WL28R7s_3f7w"
   },
   "source": [
    "El siguiente código es para mantener la estructura de carpetas que usan en el artículo ya que hay mucho código que depende de esta estructura:"
   ]
  },
  {
   "cell_type": "code",
   "execution_count": 14,
   "metadata": {
    "id": "l1diXWzq3tun"
   },
   "outputs": [],
   "source": [
    "##--------NO TOCAR-------------------------------------------------------\n",
    "base_path = 'models/chords/'\n",
    "model_filetype = '.pickle'\n",
    "\n",
    "shuffle_train_set = True\n",
    "bidirectional = False\n",
    "\n",
    "#Create model dir\n",
    "fd = {'shifted': shifted, 'lr': learning_rate, 'emdim': chord_embedding_dim, 'opt': optimizer,\n",
    "'bi': bidirectional, 'lstms': lstm_size, 'trainsize': train_set_size, 'testsize': test_set_size, 'samples_per_bar': samples_per_bar}\n",
    "t = str(np.random.randint(1000,9999))\n",
    "model_name = t # Se acorta el nombre para evitar problemas de longitud\n",
    "model_path = base_path + model_name + '/'\n",
    "if not os.path.exists(model_path):\n",
    "    os.makedirs(model_path)\n",
    "##--------NO TOCAR-------------------------------------------------------\n"
   ]
  },
  {
   "cell_type": "markdown",
   "metadata": {
    "id": "PKt5WJ5d8YPb"
   },
   "source": [
    "2.2.2 Finalmente definimos y compilamos la red con una capa de Embedding antes de la LSTM. Para este paso, acceder al código original del artículo y buscar en que fichero se entrena la LSTM copiar la estructura eliminando código que no es de nuestro interés"
   ]
  },
  {
   "cell_type": "code",
   "execution_count": 15,
   "metadata": {
    "id": "jlh6rMLuCn_Q"
   },
   "outputs": [],
   "source": [
    "model = Sequential()\n",
    "model.add(Embedding(num_chords, chord_embedding_dim,\n",
    "                    input_length=step_size,\n",
    "                    name=\"embedding\",\n",
    "                    batch_input_shape=(batch_size,step_size)))\n",
    "\n",
    "model.add(LSTM(lstm_size, stateful=True))\n",
    "model.add(Dense(num_chords))\n",
    "model.add(Activation('softmax'))\n",
    "optimizer = Adam(learning_rate=learning_rate)\n",
    "loss = 'categorical_crossentropy'\n",
    "\n",
    "model.compile(optimizer, loss)"
   ]
  },
  {
   "cell_type": "markdown",
   "metadata": {
    "id": "aMLDg6O1BNKK"
   },
   "source": [
    "## 2.3 Entrenamiento [2 pts]"
   ]
  },
  {
   "cell_type": "markdown",
   "metadata": {
    "id": "Ki3ULd3FBU8l"
   },
   "source": [
    "2.3.1 Siguiendo el código orginal del artículo donde se define la arquitectura de la LSTM para los acordes hay 3 funciones más:\n",
    "*   test()\n",
    "*   train()\n",
    "*   save_params()\n",
    "\n",
    "que nos serán de ayuda para el entrenamiento, testeo y para guardar los datos sobre el modelo entrenado. Guardaremos el valor de la ***loss*** tanto para test como para train cada 500 canciones, por lo que tendremos más de un punto por epoch. Modifica, si es necesario, las funciones *test()* y *train()* para que los ficheros de *total_test* y *total_train* dejen constancia de la epoch a la que pertenecen, esto te ayudará al graficar los datos más adelante.\n",
    "\n",
    "Añade, antes de cada función una cabecera explicando brevemente lo que ésta hace.\n",
    "\n",
    "---\n",
    "\n",
    "*nota: comprueba que has definido todas las variables necesarias para que las* *funciones no den error en mitad del entrenamiento. Comienza usando menos datos* *para agilizar el proceso y una vez funcione todo usa el set completo*"
   ]
  },
  {
   "cell_type": "code",
   "execution_count": 16,
   "metadata": {},
   "outputs": [],
   "source": [
    "import warnings\n",
    "warnings.filterwarnings(\"ignore\", category=SyntaxWarning)"
   ]
  },
  {
   "cell_type": "code",
   "execution_count": 17,
   "metadata": {
    "id": "IDevHmNuCzGx"
   },
   "outputs": [],
   "source": [
    "epoch_array = []\n",
    "total_test_loss_array = []\n",
    "total_train_loss_array = []\n",
    "total_test_loss = 0\n",
    "show_plot = False\n",
    "save_plot = False\n",
    "test_step = 500\n",
    "verbose = False\n",
    "save_step = 1\n",
    "\n",
    "def test():\n",
    "    '''\n",
    "    Evalúa el modelo con los datos de test, graficando y guardando los resultados de la pérdida\n",
    "    junto al número del epoch.\n",
    "    '''\n",
    "    total_test_loss = 0\n",
    "\n",
    "    bar = progressbar.ProgressBar(maxval=test_set_size)\n",
    "    bar.start()\n",
    "    for i, test_song in enumerate(test_set):\n",
    "        X_test = np.asarray(test_song[:-1], dtype=np.float32)\n",
    "        Y_test = np_utils.to_categorical(test_song[1:], num_classes=num_chords)\n",
    "        loss = model.evaluate(X_test, Y_test, batch_size=batch_size, verbose=verbose)\n",
    "        model.reset_states()\n",
    "        total_test_loss += loss\n",
    "        bar.update(i+1)\n",
    "    total_test_loss_array.append(total_test_loss/test_set_size)\n",
    "    print('\\nTotal test loss: ', total_test_loss/test_set_size)\n",
    "    print('-'*50)\n",
    "    plt.plot(total_test_loss_array, 'b-', label='test loss')\n",
    "    plt.plot(total_train_loss_array, 'r-', label='train loss')    \n",
    "    plt.ylabel(model_path)\n",
    "    plt.grid()\n",
    "    if show_plot: plt.show()\n",
    "    if save_plot: plt.savefig(model_path+'plot.png')\n",
    "    pickle.dump([epoch_array, total_test_loss_array],open(model_path+'total_test_loss.pickle', 'wb'))\n",
    "    pickle.dump([epoch_array, total_train_loss_array],open(model_path+'total_train_loss.pickle', 'wb'))\n",
    "\n",
    "def train():\n",
    "    '''\n",
    "    Entrena el modelo y lo guarda por cada epoch, testeándolo y guardando\n",
    "    la pérdida por cada número definido de canciones (test_step)\n",
    "    '''\n",
    "    print('training model...')\n",
    "    total_train_loss = 0\n",
    "    for e in range(1, epochs+1):\n",
    "        print('Epoch ', e, 'of ', epochs, 'Epochs\\nTraining:')\n",
    "        if shuffle_train_set:\n",
    "            shuffle(train_set)\n",
    "        bar = progressbar.ProgressBar(maxval=train_set_size)\n",
    "        bar.start()\n",
    "        for i, song in enumerate(train_set):\n",
    "            X = np.asarray(song[:-1], dtype=np.float32)\n",
    "            Y = np_utils.to_categorical(song[1:], num_classes=num_chords)\n",
    "            hist = model.fit(X, Y, batch_size=batch_size, shuffle=False, verbose=verbose)\n",
    "            model.reset_states()\n",
    "            bar.update(i+1)\n",
    "            total_train_loss += hist.history['loss'][0]\n",
    "            if (i+1)%test_step is 0:\n",
    "                total_train_loss = total_train_loss/test_step\n",
    "                total_train_loss_array.append(total_train_loss)\n",
    "                epoch_array.append((e-1)+(i+1)/len(train_set))\n",
    "                test()\n",
    "                total_train_loss = 0\n",
    "    \n",
    "        if e%save_step is 0:\n",
    "            print('saving model')\n",
    "            model_save_path = model_path + 'm_' + 'E' + str(e) + '_' + str(i+1) + model_filetype\n",
    "            model.save(model_save_path)\n",
    "\n",
    "def save_params():\n",
    "    '''\n",
    "    Guarda los parámetros en un archivo de texto.\n",
    "    '''\n",
    "    with open(model_path + 'params.txt', \"w\") as text_file:\n",
    "        text_file.write(\"epochs: %s\" % epochs + '\\n')\n",
    "        text_file.write(\"train_set_size: %s\" % train_set_size + '\\n')\n",
    "        text_file.write(\"test_set_size: %s\" % test_set_size + '\\n')\n",
    "        text_file.write(\"lstm_size: %s\" % lstm_size + '\\n')\n",
    "        text_file.write(\"embedding_dim: %s\" % chord_embedding_dim + '\\n')\n",
    "        text_file.write(\"learning_rate: %s\" % learning_rate + '\\n')\n",
    "        #text_file.write(\"save_step: %s\" % save_step + '\\n')\n",
    "        text_file.write(\"shuffle_train_set: %s\" % shuffle_train_set + '\\n')\n",
    "        text_file.write(\"test_step: %s\" % test_step + '\\n')\n",
    "        text_file.write(\"bidirectional: %s\" % bidirectional + '\\n')\n",
    "        text_file.write(\"num_chords: %s\" % num_chords + '\\n')\n",
    "        text_file.write(\"chord_n: %s\" % chord_n + '\\n')"
   ]
  },
  {
   "cell_type": "markdown",
   "metadata": {
    "id": "P7byp9y1_00y"
   },
   "source": [
    "2.3.2 Responde las siguientes preguntas:\n",
    "*  ¿Qué representa cada elemento de *X* en la función de *train()*?\n",
    "*  ¿Qué se está usando como *label* para cada elemento de *X*? \n",
    "*  Justifica el uso de *categorical_crossentropy* como función de loss\n",
    "*  ¿Qué crees que está aprendiendo la red?\n",
    "\n",
    "\n",
    "\n",
    "\n",
    " "
   ]
  },
  {
   "cell_type": "markdown",
   "metadata": {
    "id": "SjoEPKL7Cp9Z"
   },
   "source": [
    "<div class=\"alert alert-block alert-success\">\n",
    "<strong>Respuesta:</strong><br>\n",
    "\n",
    "<font color=#679532><b>¿Qué representa cada elemento de X en la función de train()?</b><br>\n",
    "<font color=#679532>Representa una instancia de los datos de entrenamiento.<br><br>\n",
    "\n",
    "<font color=#679532><b>¿Qué se está usando como label para cada elemento de X?</b><br>\n",
    "<font color=#679532>El <i>train_loss</i> correspondiente.<br><br>\n",
    "\n",
    "<font color=#679532><b>Justifica el uso de <i>categorical_crossentropy</i> como función de loss</b><br>\n",
    "<font color=#679532>El objetivo de la red es predecir qué acorde debe sonar a partir de los datos de entrada. Por lo tanto, la función <i>categorical_crossentropy</i> permite minimizar la perdida en la elección del acrode conforme al vector de salida.<br><br>\n",
    "\n",
    "<font color=#679532><b>¿Qué crees que está aprendiendo la red?</b><br>\n",
    "    <font color=#679532>A un nivel abstracto, está aprendiendo el <i>gusto</i> musical. En los datos de entrenamiento se encuentra, de forma abstracta pero intrínseca, la información de qué notas deben ir en secuencia para generar distintos sentimientos en la persona que las escucha. Una canción no deja de ser una secuencia de sonidos con distintas frecuencias, <i>tempos</i>, etc.; la clave está en que no cualquier secuencia aleatoria <i>gusta</i> a las personas: interpretar y hallar cómo deben ser esas secuencias es lo que se puede entender como <i>gusto</i> musical. Y es lo que está aprendiendo la red.\n",
    "\n",
    "</div>"
   ]
  },
  {
   "cell_type": "markdown",
   "metadata": {
    "id": "Jzu-37C4EKom"
   },
   "source": [
    "2.3.3 Entrena la red usando las funciones anteriores"
   ]
  },
  {
   "cell_type": "code",
   "execution_count": 18,
   "metadata": {
    "scrolled": true
   },
   "outputs": [
    {
     "name": "stderr",
     "output_type": "stream",
     "text": [
      "  0% |                                                                        |\r"
     ]
    },
    {
     "name": "stdout",
     "output_type": "stream",
     "text": [
      "training model...\n",
      "Epoch  1 of  10 Epochs\n",
      "Training:\n"
     ]
    },
    {
     "name": "stderr",
     "output_type": "stream",
     "text": [
      "100% |########################################################################|\r"
     ]
    },
    {
     "name": "stdout",
     "output_type": "stream",
     "text": [
      "\n",
      "Total test loss:  3.2555869998931883\n",
      "--------------------------------------------------\n"
     ]
    },
    {
     "name": "stderr",
     "output_type": "stream",
     "text": [
      "100% |########################################################################|\r"
     ]
    },
    {
     "name": "stdout",
     "output_type": "stream",
     "text": [
      "\n",
      "Total test loss:  3.1689479491710664\n",
      "--------------------------------------------------\n"
     ]
    },
    {
     "name": "stderr",
     "output_type": "stream",
     "text": [
      "100% |########################################################################|\r"
     ]
    },
    {
     "name": "stdout",
     "output_type": "stream",
     "text": [
      "\n",
      "Total test loss:  3.1222916734218598\n",
      "--------------------------------------------------\n"
     ]
    },
    {
     "name": "stderr",
     "output_type": "stream",
     "text": [
      "100% |########################################################################|\r"
     ]
    },
    {
     "name": "stdout",
     "output_type": "stream",
     "text": [
      "\n",
      "Total test loss:  3.113885406494141\n",
      "--------------------------------------------------\n",
      "saving model\n"
     ]
    },
    {
     "name": "stderr",
     "output_type": "stream",
     "text": [
      "WARNING:absl:Found untraced functions such as lstm_cell_layer_call_fn, lstm_cell_layer_call_and_return_conditional_losses while saving (showing 2 of 2). These functions will not be directly callable after loading.\n"
     ]
    },
    {
     "name": "stdout",
     "output_type": "stream",
     "text": [
      "INFO:tensorflow:Assets written to: models/chords/5496/m_E1_2000.pickle\\assets\n"
     ]
    },
    {
     "name": "stderr",
     "output_type": "stream",
     "text": [
      "INFO:tensorflow:Assets written to: models/chords/5496/m_E1_2000.pickle\\assets\n",
      "WARNING:absl:<keras.layers.recurrent.LSTMCell object at 0x0000026E88FC0C70> has the same name 'LSTMCell' as a built-in Keras object. Consider renaming <class 'keras.layers.recurrent.LSTMCell'> to avoid naming conflicts when loading with `tf.keras.models.load_model`. If renaming is not possible, pass the object in the `custom_objects` parameter of the load function.\n",
      "  0% |                                                                        |\r"
     ]
    },
    {
     "name": "stdout",
     "output_type": "stream",
     "text": [
      "Epoch  2 of  10 Epochs\n",
      "Training:\n"
     ]
    },
    {
     "name": "stderr",
     "output_type": "stream",
     "text": [
      "100% |########################################################################|\r"
     ]
    },
    {
     "name": "stdout",
     "output_type": "stream",
     "text": [
      "\n",
      "Total test loss:  3.0759780135154724\n",
      "--------------------------------------------------\n"
     ]
    },
    {
     "name": "stderr",
     "output_type": "stream",
     "text": [
      "100% |########################################################################|\r"
     ]
    },
    {
     "name": "stdout",
     "output_type": "stream",
     "text": [
      "\n",
      "Total test loss:  3.070033744096756\n",
      "--------------------------------------------------\n"
     ]
    },
    {
     "name": "stderr",
     "output_type": "stream",
     "text": [
      "100% |########################################################################|\r"
     ]
    },
    {
     "name": "stdout",
     "output_type": "stream",
     "text": [
      "\n",
      "Total test loss:  3.046282219171524\n",
      "--------------------------------------------------\n"
     ]
    },
    {
     "name": "stderr",
     "output_type": "stream",
     "text": [
      "100% |########################################################################|\r"
     ]
    },
    {
     "name": "stdout",
     "output_type": "stream",
     "text": [
      "\n",
      "Total test loss:  3.049051134586334\n",
      "--------------------------------------------------\n",
      "saving model\n"
     ]
    },
    {
     "name": "stderr",
     "output_type": "stream",
     "text": [
      "WARNING:absl:Found untraced functions such as lstm_cell_layer_call_fn, lstm_cell_layer_call_and_return_conditional_losses while saving (showing 2 of 2). These functions will not be directly callable after loading.\n"
     ]
    },
    {
     "name": "stdout",
     "output_type": "stream",
     "text": [
      "INFO:tensorflow:Assets written to: models/chords/5496/m_E2_2000.pickle\\assets\n"
     ]
    },
    {
     "name": "stderr",
     "output_type": "stream",
     "text": [
      "INFO:tensorflow:Assets written to: models/chords/5496/m_E2_2000.pickle\\assets\n",
      "WARNING:absl:<keras.layers.recurrent.LSTMCell object at 0x0000026E88FC0C70> has the same name 'LSTMCell' as a built-in Keras object. Consider renaming <class 'keras.layers.recurrent.LSTMCell'> to avoid naming conflicts when loading with `tf.keras.models.load_model`. If renaming is not possible, pass the object in the `custom_objects` parameter of the load function.\n"
     ]
    },
    {
     "name": "stdout",
     "output_type": "stream",
     "text": [
      "Epoch "
     ]
    },
    {
     "name": "stderr",
     "output_type": "stream",
     "text": [
      "  0% |                                                                        |\r"
     ]
    },
    {
     "name": "stdout",
     "output_type": "stream",
     "text": [
      " 3 of  10 Epochs\n",
      "Training:\n"
     ]
    },
    {
     "name": "stderr",
     "output_type": "stream",
     "text": [
      "100% |########################################################################|\r"
     ]
    },
    {
     "name": "stdout",
     "output_type": "stream",
     "text": [
      "\n",
      "Total test loss:  3.0278426506519316\n",
      "--------------------------------------------------\n"
     ]
    },
    {
     "name": "stderr",
     "output_type": "stream",
     "text": [
      "100% |########################################################################|\r"
     ]
    },
    {
     "name": "stdout",
     "output_type": "stream",
     "text": [
      "\n",
      "Total test loss:  3.0187724397182465\n",
      "--------------------------------------------------\n"
     ]
    },
    {
     "name": "stderr",
     "output_type": "stream",
     "text": [
      "100% |########################################################################|\r"
     ]
    },
    {
     "name": "stdout",
     "output_type": "stream",
     "text": [
      "\n",
      "Total test loss:  3.00675378036499\n",
      "--------------------------------------------------\n"
     ]
    },
    {
     "name": "stderr",
     "output_type": "stream",
     "text": [
      "100% |########################################################################|\r"
     ]
    },
    {
     "name": "stdout",
     "output_type": "stream",
     "text": [
      "\n",
      "Total test loss:  2.9950804529190065\n",
      "--------------------------------------------------\n",
      "saving model\n"
     ]
    },
    {
     "name": "stderr",
     "output_type": "stream",
     "text": [
      "WARNING:absl:Found untraced functions such as lstm_cell_layer_call_fn, lstm_cell_layer_call_and_return_conditional_losses while saving (showing 2 of 2). These functions will not be directly callable after loading.\n"
     ]
    },
    {
     "name": "stdout",
     "output_type": "stream",
     "text": [
      "INFO:tensorflow:Assets written to: models/chords/5496/m_E3_2000.pickle\\assets\n"
     ]
    },
    {
     "name": "stderr",
     "output_type": "stream",
     "text": [
      "INFO:tensorflow:Assets written to: models/chords/5496/m_E3_2000.pickle\\assets\n",
      "WARNING:absl:<keras.layers.recurrent.LSTMCell object at 0x0000026E88FC0C70> has the same name 'LSTMCell' as a built-in Keras object. Consider renaming <class 'keras.layers.recurrent.LSTMCell'> to avoid naming conflicts when loading with `tf.keras.models.load_model`. If renaming is not possible, pass the object in the `custom_objects` parameter of the load function.\n",
      "  0% |                                                                        |\r"
     ]
    },
    {
     "name": "stdout",
     "output_type": "stream",
     "text": [
      "Epoch  4 of  10 Epochs\n",
      "Training:\n"
     ]
    },
    {
     "name": "stderr",
     "output_type": "stream",
     "text": [
      "100% |########################################################################|\r"
     ]
    },
    {
     "name": "stdout",
     "output_type": "stream",
     "text": [
      "\n",
      "Total test loss:  2.990694726228714\n",
      "--------------------------------------------------\n"
     ]
    },
    {
     "name": "stderr",
     "output_type": "stream",
     "text": [
      "100% |########################################################################|\r"
     ]
    },
    {
     "name": "stdout",
     "output_type": "stream",
     "text": [
      "\n",
      "Total test loss:  2.9842098445892336\n",
      "--------------------------------------------------\n"
     ]
    },
    {
     "name": "stderr",
     "output_type": "stream",
     "text": [
      "100% |########################################################################|\r"
     ]
    },
    {
     "name": "stdout",
     "output_type": "stream",
     "text": [
      "\n",
      "Total test loss:  2.9829579191207887\n",
      "--------------------------------------------------\n"
     ]
    },
    {
     "name": "stderr",
     "output_type": "stream",
     "text": [
      "100% |########################################################################|\r"
     ]
    },
    {
     "name": "stdout",
     "output_type": "stream",
     "text": [
      "\n",
      "Total test loss:  2.9782652106285097\n",
      "--------------------------------------------------\n",
      "saving model\n"
     ]
    },
    {
     "name": "stderr",
     "output_type": "stream",
     "text": [
      "WARNING:absl:Found untraced functions such as lstm_cell_layer_call_fn, lstm_cell_layer_call_and_return_conditional_losses while saving (showing 2 of 2). These functions will not be directly callable after loading.\n"
     ]
    },
    {
     "name": "stdout",
     "output_type": "stream",
     "text": [
      "INFO:tensorflow:Assets written to: models/chords/5496/m_E4_2000.pickle\\assets\n"
     ]
    },
    {
     "name": "stderr",
     "output_type": "stream",
     "text": [
      "INFO:tensorflow:Assets written to: models/chords/5496/m_E4_2000.pickle\\assets\n",
      "WARNING:absl:<keras.layers.recurrent.LSTMCell object at 0x0000026E88FC0C70> has the same name 'LSTMCell' as a built-in Keras object. Consider renaming <class 'keras.layers.recurrent.LSTMCell'> to avoid naming conflicts when loading with `tf.keras.models.load_model`. If renaming is not possible, pass the object in the `custom_objects` parameter of the load function.\n",
      "  0% |                                                                        |\r"
     ]
    },
    {
     "name": "stdout",
     "output_type": "stream",
     "text": [
      "Epoch  5 of  10 Epochs\n",
      "Training:\n"
     ]
    },
    {
     "name": "stderr",
     "output_type": "stream",
     "text": [
      "100% |########################################################################|\r"
     ]
    },
    {
     "name": "stdout",
     "output_type": "stream",
     "text": [
      "\n",
      "Total test loss:  2.965719488143921\n",
      "--------------------------------------------------\n"
     ]
    },
    {
     "name": "stderr",
     "output_type": "stream",
     "text": [
      "100% |########################################################################|\r"
     ]
    },
    {
     "name": "stdout",
     "output_type": "stream",
     "text": [
      "\n",
      "Total test loss:  2.963016983270645\n",
      "--------------------------------------------------\n"
     ]
    },
    {
     "name": "stderr",
     "output_type": "stream",
     "text": [
      "100% |########################################################################|\r"
     ]
    },
    {
     "name": "stdout",
     "output_type": "stream",
     "text": [
      "\n",
      "Total test loss:  2.9561511373519895\n",
      "--------------------------------------------------\n"
     ]
    },
    {
     "name": "stderr",
     "output_type": "stream",
     "text": [
      "100% |########################################################################|\r"
     ]
    },
    {
     "name": "stdout",
     "output_type": "stream",
     "text": [
      "\n",
      "Total test loss:  2.9481270591020583\n",
      "--------------------------------------------------\n",
      "saving model\n"
     ]
    },
    {
     "name": "stderr",
     "output_type": "stream",
     "text": [
      "WARNING:absl:Found untraced functions such as lstm_cell_layer_call_fn, lstm_cell_layer_call_and_return_conditional_losses while saving (showing 2 of 2). These functions will not be directly callable after loading.\n"
     ]
    },
    {
     "name": "stdout",
     "output_type": "stream",
     "text": [
      "INFO:tensorflow:Assets written to: models/chords/5496/m_E5_2000.pickle\\assets\n"
     ]
    },
    {
     "name": "stderr",
     "output_type": "stream",
     "text": [
      "INFO:tensorflow:Assets written to: models/chords/5496/m_E5_2000.pickle\\assets\n",
      "WARNING:absl:<keras.layers.recurrent.LSTMCell object at 0x0000026E88FC0C70> has the same name 'LSTMCell' as a built-in Keras object. Consider renaming <class 'keras.layers.recurrent.LSTMCell'> to avoid naming conflicts when loading with `tf.keras.models.load_model`. If renaming is not possible, pass the object in the `custom_objects` parameter of the load function.\n",
      "  0% |                                                                        |\r"
     ]
    },
    {
     "name": "stdout",
     "output_type": "stream",
     "text": [
      "Epoch  6 of  10 Epochs\n",
      "Training:\n"
     ]
    },
    {
     "name": "stderr",
     "output_type": "stream",
     "text": [
      "100% |########################################################################|\r"
     ]
    },
    {
     "name": "stdout",
     "output_type": "stream",
     "text": [
      "\n",
      "Total test loss:  2.9501977535486223\n",
      "--------------------------------------------------\n"
     ]
    },
    {
     "name": "stderr",
     "output_type": "stream",
     "text": [
      "100% |########################################################################|\r"
     ]
    },
    {
     "name": "stdout",
     "output_type": "stream",
     "text": [
      "\n",
      "Total test loss:  2.9355851664543153\n",
      "--------------------------------------------------\n"
     ]
    },
    {
     "name": "stderr",
     "output_type": "stream",
     "text": [
      "100% |########################################################################|\r"
     ]
    },
    {
     "name": "stdout",
     "output_type": "stream",
     "text": [
      "\n",
      "Total test loss:  2.941984602212906\n",
      "--------------------------------------------------\n"
     ]
    },
    {
     "name": "stderr",
     "output_type": "stream",
     "text": [
      "100% |########################################################################|\r"
     ]
    },
    {
     "name": "stdout",
     "output_type": "stream",
     "text": [
      "\n",
      "Total test loss:  2.941765861392021\n",
      "--------------------------------------------------\n",
      "saving model\n"
     ]
    },
    {
     "name": "stderr",
     "output_type": "stream",
     "text": [
      "WARNING:absl:Found untraced functions such as lstm_cell_layer_call_fn, lstm_cell_layer_call_and_return_conditional_losses while saving (showing 2 of 2). These functions will not be directly callable after loading.\n"
     ]
    },
    {
     "name": "stdout",
     "output_type": "stream",
     "text": [
      "INFO:tensorflow:Assets written to: models/chords/5496/m_E6_2000.pickle\\assets\n"
     ]
    },
    {
     "name": "stderr",
     "output_type": "stream",
     "text": [
      "INFO:tensorflow:Assets written to: models/chords/5496/m_E6_2000.pickle\\assets\n",
      "WARNING:absl:<keras.layers.recurrent.LSTMCell object at 0x0000026E88FC0C70> has the same name 'LSTMCell' as a built-in Keras object. Consider renaming <class 'keras.layers.recurrent.LSTMCell'> to avoid naming conflicts when loading with `tf.keras.models.load_model`. If renaming is not possible, pass the object in the `custom_objects` parameter of the load function.\n",
      "  0% |                                                                        |\r"
     ]
    },
    {
     "name": "stdout",
     "output_type": "stream",
     "text": [
      "Epoch  7 of  10 Epochs\n",
      "Training:\n"
     ]
    },
    {
     "name": "stderr",
     "output_type": "stream",
     "text": [
      "100% |########################################################################|\r"
     ]
    },
    {
     "name": "stdout",
     "output_type": "stream",
     "text": [
      "\n",
      "Total test loss:  2.932831094622612\n",
      "--------------------------------------------------\n"
     ]
    },
    {
     "name": "stderr",
     "output_type": "stream",
     "text": [
      "100% |########################################################################|\r"
     ]
    },
    {
     "name": "stdout",
     "output_type": "stream",
     "text": [
      "\n",
      "Total test loss:  2.9353832902908326\n",
      "--------------------------------------------------\n"
     ]
    },
    {
     "name": "stderr",
     "output_type": "stream",
     "text": [
      "100% |########################################################################|\r"
     ]
    },
    {
     "name": "stdout",
     "output_type": "stream",
     "text": [
      "\n",
      "Total test loss:  2.9311030497550963\n",
      "--------------------------------------------------\n"
     ]
    },
    {
     "name": "stderr",
     "output_type": "stream",
     "text": [
      "100% |########################################################################|\r"
     ]
    },
    {
     "name": "stdout",
     "output_type": "stream",
     "text": [
      "\n",
      "Total test loss:  2.9218860282897947\n",
      "--------------------------------------------------\n",
      "saving model\n"
     ]
    },
    {
     "name": "stderr",
     "output_type": "stream",
     "text": [
      "WARNING:absl:Found untraced functions such as lstm_cell_layer_call_fn, lstm_cell_layer_call_and_return_conditional_losses while saving (showing 2 of 2). These functions will not be directly callable after loading.\n"
     ]
    },
    {
     "name": "stdout",
     "output_type": "stream",
     "text": [
      "INFO:tensorflow:Assets written to: models/chords/5496/m_E7_2000.pickle\\assets\n"
     ]
    },
    {
     "name": "stderr",
     "output_type": "stream",
     "text": [
      "INFO:tensorflow:Assets written to: models/chords/5496/m_E7_2000.pickle\\assets\n",
      "WARNING:absl:<keras.layers.recurrent.LSTMCell object at 0x0000026E88FC0C70> has the same name 'LSTMCell' as a built-in Keras object. Consider renaming <class 'keras.layers.recurrent.LSTMCell'> to avoid naming conflicts when loading with `tf.keras.models.load_model`. If renaming is not possible, pass the object in the `custom_objects` parameter of the load function.\n",
      "  0% |                                                                        |\r"
     ]
    },
    {
     "name": "stdout",
     "output_type": "stream",
     "text": [
      "Epoch  8 of  10 Epochs\n",
      "Training:\n"
     ]
    },
    {
     "name": "stderr",
     "output_type": "stream",
     "text": [
      "100% |########################################################################|\r"
     ]
    },
    {
     "name": "stdout",
     "output_type": "stream",
     "text": [
      "\n",
      "Total test loss:  2.931952201485634\n",
      "--------------------------------------------------\n"
     ]
    },
    {
     "name": "stderr",
     "output_type": "stream",
     "text": [
      "100% |########################################################################|\r"
     ]
    },
    {
     "name": "stdout",
     "output_type": "stream",
     "text": [
      "\n",
      "Total test loss:  2.922435132980347\n",
      "--------------------------------------------------\n"
     ]
    },
    {
     "name": "stderr",
     "output_type": "stream",
     "text": [
      "100% |########################################################################|\r"
     ]
    },
    {
     "name": "stdout",
     "output_type": "stream",
     "text": [
      "\n",
      "Total test loss:  2.9263913497924805\n",
      "--------------------------------------------------\n"
     ]
    },
    {
     "name": "stderr",
     "output_type": "stream",
     "text": [
      "100% |########################################################################|\r"
     ]
    },
    {
     "name": "stdout",
     "output_type": "stream",
     "text": [
      "\n",
      "Total test loss:  2.9288575884103776\n",
      "--------------------------------------------------\n",
      "saving model\n"
     ]
    },
    {
     "name": "stderr",
     "output_type": "stream",
     "text": [
      "WARNING:absl:Found untraced functions such as lstm_cell_layer_call_fn, lstm_cell_layer_call_and_return_conditional_losses while saving (showing 2 of 2). These functions will not be directly callable after loading.\n"
     ]
    },
    {
     "name": "stdout",
     "output_type": "stream",
     "text": [
      "INFO:tensorflow:Assets written to: models/chords/5496/m_E8_2000.pickle\\assets\n"
     ]
    },
    {
     "name": "stderr",
     "output_type": "stream",
     "text": [
      "INFO:tensorflow:Assets written to: models/chords/5496/m_E8_2000.pickle\\assets\n",
      "WARNING:absl:<keras.layers.recurrent.LSTMCell object at 0x0000026E88FC0C70> has the same name 'LSTMCell' as a built-in Keras object. Consider renaming <class 'keras.layers.recurrent.LSTMCell'> to avoid naming conflicts when loading with `tf.keras.models.load_model`. If renaming is not possible, pass the object in the `custom_objects` parameter of the load function.\n",
      "  0% |                                                                        |\r"
     ]
    },
    {
     "name": "stdout",
     "output_type": "stream",
     "text": [
      "Epoch  9 of  10 Epochs\n",
      "Training:\n"
     ]
    },
    {
     "name": "stderr",
     "output_type": "stream",
     "text": [
      "100% |########################################################################|\r"
     ]
    },
    {
     "name": "stdout",
     "output_type": "stream",
     "text": [
      "\n",
      "Total test loss:  2.9263798829317094\n",
      "--------------------------------------------------\n"
     ]
    },
    {
     "name": "stderr",
     "output_type": "stream",
     "text": [
      "100% |########################################################################|\r"
     ]
    },
    {
     "name": "stdout",
     "output_type": "stream",
     "text": [
      "\n",
      "Total test loss:  2.910597948908806\n",
      "--------------------------------------------------\n"
     ]
    },
    {
     "name": "stderr",
     "output_type": "stream",
     "text": [
      "100% |########################################################################|\r"
     ]
    },
    {
     "name": "stdout",
     "output_type": "stream",
     "text": [
      "\n",
      "Total test loss:  2.917220376253128\n",
      "--------------------------------------------------\n"
     ]
    },
    {
     "name": "stderr",
     "output_type": "stream",
     "text": [
      "100% |########################################################################|\r"
     ]
    },
    {
     "name": "stdout",
     "output_type": "stream",
     "text": [
      "\n",
      "Total test loss:  2.915973871946335\n",
      "--------------------------------------------------\n",
      "saving model\n"
     ]
    },
    {
     "name": "stderr",
     "output_type": "stream",
     "text": [
      "WARNING:absl:Found untraced functions such as lstm_cell_layer_call_fn, lstm_cell_layer_call_and_return_conditional_losses while saving (showing 2 of 2). These functions will not be directly callable after loading.\n"
     ]
    },
    {
     "name": "stdout",
     "output_type": "stream",
     "text": [
      "INFO:tensorflow:Assets written to: models/chords/5496/m_E9_2000.pickle\\assets\n"
     ]
    },
    {
     "name": "stderr",
     "output_type": "stream",
     "text": [
      "INFO:tensorflow:Assets written to: models/chords/5496/m_E9_2000.pickle\\assets\n",
      "WARNING:absl:<keras.layers.recurrent.LSTMCell object at 0x0000026E88FC0C70> has the same name 'LSTMCell' as a built-in Keras object. Consider renaming <class 'keras.layers.recurrent.LSTMCell'> to avoid naming conflicts when loading with `tf.keras.models.load_model`. If renaming is not possible, pass the object in the `custom_objects` parameter of the load function.\n",
      "  0% |                                                                        |\r"
     ]
    },
    {
     "name": "stdout",
     "output_type": "stream",
     "text": [
      "Epoch  10 of  10 Epochs\n",
      "Training:\n"
     ]
    },
    {
     "name": "stderr",
     "output_type": "stream",
     "text": [
      "100% |########################################################################|\r"
     ]
    },
    {
     "name": "stdout",
     "output_type": "stream",
     "text": [
      "\n",
      "Total test loss:  2.9129951772689817\n",
      "--------------------------------------------------\n"
     ]
    },
    {
     "name": "stderr",
     "output_type": "stream",
     "text": [
      "100% |########################################################################|\r"
     ]
    },
    {
     "name": "stdout",
     "output_type": "stream",
     "text": [
      "\n",
      "Total test loss:  2.9174938402175905\n",
      "--------------------------------------------------\n"
     ]
    },
    {
     "name": "stderr",
     "output_type": "stream",
     "text": [
      "100% |########################################################################|\r"
     ]
    },
    {
     "name": "stdout",
     "output_type": "stream",
     "text": [
      "\n",
      "Total test loss:  2.913329495072365\n",
      "--------------------------------------------------\n"
     ]
    },
    {
     "name": "stderr",
     "output_type": "stream",
     "text": [
      "100% |########################################################################|\r"
     ]
    },
    {
     "name": "stdout",
     "output_type": "stream",
     "text": [
      "\n",
      "Total test loss:  2.8992770098447798\n",
      "--------------------------------------------------\n",
      "saving model\n"
     ]
    },
    {
     "name": "stderr",
     "output_type": "stream",
     "text": [
      "WARNING:absl:Found untraced functions such as lstm_cell_layer_call_fn, lstm_cell_layer_call_and_return_conditional_losses while saving (showing 2 of 2). These functions will not be directly callable after loading.\n"
     ]
    },
    {
     "name": "stdout",
     "output_type": "stream",
     "text": [
      "INFO:tensorflow:Assets written to: models/chords/5496/m_E10_2000.pickle\\assets\n"
     ]
    },
    {
     "name": "stderr",
     "output_type": "stream",
     "text": [
      "INFO:tensorflow:Assets written to: models/chords/5496/m_E10_2000.pickle\\assets\n",
      "WARNING:absl:<keras.layers.recurrent.LSTMCell object at 0x0000026E88FC0C70> has the same name 'LSTMCell' as a built-in Keras object. Consider renaming <class 'keras.layers.recurrent.LSTMCell'> to avoid naming conflicts when loading with `tf.keras.models.load_model`. If renaming is not possible, pass the object in the `custom_objects` parameter of the load function.\n"
     ]
    },
    {
     "data": {
      "image/png": "[encoded data removed]",
      "text/plain": [
       "<Figure size 432x288 with 1 Axes>"
      ]
     },
     "metadata": {
      "needs_background": "light"
     },
     "output_type": "display_data"
    }
   ],
   "source": [
    "save_params()\n",
    "train()"
   ]
  },
  {
   "cell_type": "markdown",
   "metadata": {
    "id": "CkpRym4eFnN9"
   },
   "source": [
    "## 2.4 Comparación de modelos [2 pts]"
   ]
  },
  {
   "cell_type": "markdown",
   "metadata": {
    "id": "FhwHC5ZJF0YW"
   },
   "source": [
    "En este último paso compararemos diferentes modelos. En la carpeta *models/chords* encontrarás los datos (en un formato similar al generado anteriormente) del entrenamiento de modelos similares con otros parámetros:\n",
    "\n",
    "1.   carpeta: 2717-Shifted_True_...\n",
    "2.   carpeta: 5102-Shifted_True_...\n",
    "\n"
   ]
  },
  {
   "cell_type": "markdown",
   "metadata": {
    "id": "ab531tCvGhI3"
   },
   "source": [
    "2.4.1 Compara los 3 modelos: grafica las funciones de loss para train y test de cada modelo.\n",
    "\n",
    "*   Indica los parámetros de cada uno de los 3 modelos (el que habéis entrenado y los 2 que os hemos dado)\n",
    "*   ¿Qué set de parámetros ha dado la mejor performance?\n",
    "*   ¿Se aprecia overfitting en alguno de los modelos? Justifica tu respuesta"
   ]
  },
  {
   "cell_type": "code",
   "execution_count": 19,
   "metadata": {
    "id": "BEsa5EA2C-jQ",
    "scrolled": false
   },
   "outputs": [
    {
     "name": "stdout",
     "output_type": "stream",
     "text": [
      "PARÁMETROS MODELO PROPIO\n",
      "epochs: 10\n",
      "train_set_size: 2000\n",
      "test_set_size: 500\n",
      "lstm_size: 128\n",
      "embedding_dim: 10\n",
      "learning_rate: 1e-05\n",
      "shuffle_train_set: True\n",
      "test_step: 500\n",
      "bidirectional: False\n",
      "num_chords: 50\n",
      "chord_n: 3\n",
      "\n",
      "PARÁMETROS MODELO 2717\n",
      "epochs: 10\n",
      "train_set_size: 2000\n",
      "test_set_size: 500\n",
      "lstm_size: 256\n",
      "embedding_dim: 10\n",
      "learning_rate: 1e-05\n",
      "shuffle_train_set: True\n",
      "test_step: 500\n",
      "bidirectional: False\n",
      "num_chords: 50\n",
      "chord_n: 3\n",
      "\n",
      "PARÁMETROS MODELO 5102\n",
      "epochs: 20\n",
      "train_set_size: 4000\n",
      "test_set_size: 1000\n",
      "lstm_size: 256\n",
      "embedding_dim: 10\n",
      "learning_rate: 1e-05\n",
      "shuffle_train_set: True\n",
      "test_step: 1000\n",
      "bidirectional: False\n",
      "num_chords: 50\n",
      "chord_n: 3\n",
      "\n"
     ]
    },
    {
     "data": {
      "image/png": "[encoded data removed]",
      "text/plain": [
       "<Figure size 936x288 with 3 Axes>"
      ]
     },
     "metadata": {
      "needs_background": "light"
     },
     "output_type": "display_data"
    }
   ],
   "source": [
    "fig, ax = plt.subplots(1, 3, figsize=(13, 4))\n",
    "\n",
    "# MODELO PROPIO\n",
    "\n",
    "pathpropio = 'models/chords/1640' # Renombrado por problemas con la longitud del path original\n",
    "p_a_propio = open(str(pathpropio + '/params.txt'))\n",
    "ppropio = p_a_propio.read()\n",
    "print('PARÁMETROS MODELO PROPIO\\n' + ppropio)\n",
    "p_a_propio.close()\n",
    "\n",
    "train_a_propio = open(str(pathpropio + '/total_train_loss.pickle'), 'rb')\n",
    "trainpropio = pickle.load(train_a_propio)\n",
    "\n",
    "train_a_propio.close()\n",
    "\n",
    "test_a_propio = open(str(pathpropio + '/total_test_loss.pickle'), 'rb')\n",
    "testpropio = pickle.load(test_a_propio)\n",
    "\n",
    "ax[0].plot(trainpropio[1])\n",
    "ax[0].plot(testpropio[1])\n",
    "ax[0].set_title('MODELO PROPIO')\n",
    "ax[0].set_ylabel('Loss')\n",
    "ax[0].legend(['Train', 'Test'])\n",
    "\n",
    "test_a_propio.close()\n",
    "\n",
    "\n",
    "# MODELO 2717\n",
    "\n",
    "path2717 = 'models/chords/2717'\n",
    "p_a_2717 = open(str(path2717 + '/params_0.txt'))\n",
    "p2717 = p_a_2717.read()\n",
    "print('PARÁMETROS MODELO 2717\\n' + p2717)\n",
    "p_a_2717.close()\n",
    "\n",
    "train_a_2717 = open(str(path2717 + '/total_train_loss_array.pickle'), 'rb')\n",
    "train2717 = pickle.load(train_a_2717)\n",
    "\n",
    "train_a_2717.close()\n",
    "\n",
    "test_a_2717 = open(str(path2717 + '/total_test_loss_array.pickle'), 'rb')\n",
    "test2717 = pickle.load(test_a_2717)\n",
    "\n",
    "ax[1].plot(train2717[1])\n",
    "ax[1].plot(test2717[1])\n",
    "ax[1].set_title('MODELO 2717')\n",
    "ax[1].set_ylabel('Loss')\n",
    "ax[1].legend(['Train', 'Test'])\n",
    "\n",
    "test_a_2717.close()\n",
    "\n",
    "\n",
    "# MODELO 5102\n",
    "\n",
    "path5102 = 'models/chords/5102' # Renombrado por problemas con la longitud del path original\n",
    "p_a_5102 = open(str(path5102 + '/params_0.txt'))\n",
    "p5102 = p_a_5102.read()\n",
    "print('PARÁMETROS MODELO 5102\\n' + p5102)\n",
    "p_a_5102.close()\n",
    "\n",
    "train_a_5102 = open(str(path5102 + '/total_train_loss_array.pickle'), 'rb')\n",
    "train5102 = pickle.load(train_a_5102)\n",
    "\n",
    "train_a_5102.close()\n",
    "\n",
    "test_a_5102 = open(str(path5102 + '/total_test_loss_array.pickle'), 'rb')\n",
    "test5102 = pickle.load(test_a_5102)\n",
    "\n",
    "ax[2].plot(train5102[1])\n",
    "ax[2].plot(test5102[1])\n",
    "ax[2].set_title('MODELO 5102')\n",
    "ax[2].set_ylabel('Loss')\n",
    "ax[2].legend(['Train', 'Test'])\n",
    "\n",
    "test_a_5102.close()\n",
    "\n",
    "\n",
    "plt.tight_layout()"
   ]
  },
  {
   "cell_type": "code",
   "execution_count": 20,
   "metadata": {},
   "outputs": [
    {
     "name": "stdout",
     "output_type": "stream",
     "text": [
      "Loss modelo propio:\t 2.8958159993886947 \n",
      "Loss modelo 2717:\t 2.9159450919628145 \n",
      "Loss modelo 5102:\t 2.690847583383322\n"
     ]
    }
   ],
   "source": [
    "print('Loss modelo propio:\\t', testpropio[1][-1],\n",
    "      '\\nLoss modelo 2717:\\t', test2717[1][-1],\n",
    "      '\\nLoss modelo 5102:\\t', test5102[1][-1])"
   ]
  },
  {
   "cell_type": "markdown",
   "metadata": {},
   "source": [
    "<div class=\"alert alert-block alert-success\">\n",
    "<strong>Respuesta:</strong><br>\n",
    "\n",
    "<font color=#679532>El set de parámetros que mejor rendimiento ha dado es el del <b><i>modelo 5102</i></b>.<br><br>\n",
    "\n",
    "<font color=#679532>No se puede apreciar un sobreentrenamiento evidente en las gráficas de <i>Loss</i> de los modelos. Sin embargo, tanto en el <i>modelo 2717</i> como en el <i>modelo 5102</i> se ven indicios de que la red podría empezar a sufrir sobreentrenamiento si se siguiese entrenando, ya que se empieza a apreciar que el <i>loss</i> de <i>test</i> comienza a disminuir en menor medida que el <i>Loss</i> de <i>train</i>. \n",
    "\n",
    "</div>"
   ]
  },
  {
   "cell_type": "markdown",
   "metadata": {
    "id": "kEWwrLqnIhlz"
   },
   "source": [
    "# 3 Análisis de la capa de embedding [2 pts]"
   ]
  },
  {
   "cell_type": "markdown",
   "metadata": {
    "id": "H01zsudCIuTg"
   },
   "source": [
    "En esta sección recrearemos la figura 8 del artículo con la red que hemos entrenado y la que mejor performance nos ha dado en la comparación. "
   ]
  },
  {
   "cell_type": "code",
   "execution_count": 21,
   "metadata": {
    "id": "jn_xE9QDJoMz"
   },
   "outputs": [],
   "source": [
    "from keras.models import load_model\n",
    "import keras\n",
    "from keras import backend as K"
   ]
  },
  {
   "cell_type": "markdown",
   "metadata": {
    "id": "p0wEHRWAJ-ni"
   },
   "source": [
    "## 3.1 Carga de modelos entrenados y generación de embeddings [1 pts]"
   ]
  },
  {
   "cell_type": "markdown",
   "metadata": {
    "id": "GVFaCsSrKHLj"
   },
   "source": [
    "3.1.1 Utiliza el *load_model* de **keras** para cargar:\n",
    "*   el modelo que hemos entrenado: *my_model*\n",
    "*   el modelo con mejor performance: *bp_model*\n"
   ]
  },
  {
   "cell_type": "code",
   "execution_count": 22,
   "metadata": {
    "id": "j58DCb2YDBkJ"
   },
   "outputs": [],
   "source": [
    "my_model = load_model(str(pathpropio + '/m_E10_2000.pickle'))\n",
    "my_model._name = 'my_model'\n",
    "bp_model = load_model(str(path5102 + '/model_Epoch14_4000.pickle'))\n",
    "bp_model._name = 'bp_model'"
   ]
  },
  {
   "cell_type": "markdown",
   "metadata": {
    "id": "LvTrSPKTLxUO"
   },
   "source": [
    "3.1.2 Ahora crearemos, para cada modelo, un nuevo modelo para los embedding. Para hacer esto, deberás crear un nuevo modelo cuya entrada sea igual a la entrada de los modelos originales y la salida sea el layer \"embedding\". Esto lo puedes hacer usando la función *get_layer()* del modelo.\n"
   ]
  },
  {
   "cell_type": "code",
   "execution_count": 23,
   "metadata": {},
   "outputs": [
    {
     "data": {
      "text/plain": [
       "[1, 1, 10]"
      ]
     },
     "execution_count": 23,
     "metadata": {},
     "output_type": "execute_result"
    }
   ],
   "source": [
    "[i for i in my_model.get_layer('embedding').output.shape]"
   ]
  },
  {
   "cell_type": "code",
   "execution_count": 24,
   "metadata": {
    "id": "1Q5vhuS1DCYc"
   },
   "outputs": [
    {
     "name": "stdout",
     "output_type": "stream",
     "text": [
      "Model: \"my_embedding\"\n",
      "_________________________________________________________________\n",
      " Layer (type)                Output Shape              Param #   \n",
      "=================================================================\n",
      " embedding (Embedding)       (1, 1, 10)                500       \n",
      "                                                                 \n",
      "=================================================================\n",
      "Total params: 500\n",
      "Trainable params: 500\n",
      "Non-trainable params: 0\n",
      "_________________________________________________________________\n",
      "\n",
      "\n",
      "Model: \"bp_embedding\"\n",
      "_________________________________________________________________\n",
      " Layer (type)                Output Shape              Param #   \n",
      "=================================================================\n",
      " embedding (Embedding)       (1, 1, 10)                500       \n",
      "                                                                 \n",
      "=================================================================\n",
      "Total params: 500\n",
      "Trainable params: 500\n",
      "Non-trainable params: 0\n",
      "_________________________________________________________________\n"
     ]
    }
   ],
   "source": [
    "# my_model\n",
    "my_model.get_layer('embedding')\n",
    "\n",
    "my_embedding = Sequential()\n",
    "my_embedding.add(my_model.get_layer('embedding'))\n",
    "my_embedding._name = 'my_embedding'\n",
    "\n",
    "my_embedding.summary()\n",
    "\n",
    "# bp_model\n",
    "bp_model.get_layer('embedding')\n",
    "\n",
    "bp_embedding = Sequential()\n",
    "bp_embedding.add(bp_model.get_layer('embedding'))\n",
    "print('\\n')\n",
    "bp_embedding._name = 'bp_embedding'\n",
    "\n",
    "bp_embedding.summary()"
   ]
  },
  {
   "cell_type": "markdown",
   "metadata": {
    "id": "GVXc-FhGNfoP"
   },
   "source": [
    "3.1.3 El modelo de embedding recibe un acorde y devuelve un vector de 10 dimensiones con el embedding para cada acorde. Calcula estos vectores con cada uno de los modelos de embedding"
   ]
  },
  {
   "cell_type": "code",
   "execution_count": 25,
   "metadata": {},
   "outputs": [
    {
     "name": "stdout",
     "output_type": "stream",
     "text": [
      "Dimensión de los vectores de salida\n",
      "my_embedding:\t (50, 1, 10) \n",
      "bp_embedding:\t (50, 1, 10)\n"
     ]
    }
   ],
   "source": [
    "my_v = my_embedding.predict([i for i in range(50)])\n",
    "bp_v = bp_embedding.predict([i for i in range(50)])\n",
    "print('Dimensión de los vectores de salida\\nmy_embedding:\\t', my_v.shape,\n",
    "      '\\nbp_embedding:\\t', bp_v.shape)"
   ]
  },
  {
   "cell_type": "markdown",
   "metadata": {
    "id": "D33AZTgmO9u1"
   },
   "source": [
    "3.1.4 Aplica un squeeze para eliminar los ejes de dimensión 1. El resultado de este squeeze debería ser (50,10)"
   ]
  },
  {
   "cell_type": "code",
   "execution_count": 26,
   "metadata": {
    "id": "S-keKk13DEXK"
   },
   "outputs": [
    {
     "name": "stdout",
     "output_type": "stream",
     "text": [
      "Dimensión de los vectores de salida\n",
      "my_embedding:\t (50, 10) \n",
      "bp_embedding:\t (50, 10)\n"
     ]
    }
   ],
   "source": [
    "my_v = np.squeeze(my_v)\n",
    "bp_v = np.squeeze(bp_v)\n",
    "print('Dimensión de los vectores de salida\\nmy_embedding:\\t', my_v.shape,\n",
    "      '\\nbp_embedding:\\t', bp_v.shape)"
   ]
  },
  {
   "cell_type": "markdown",
   "metadata": {
    "id": "_hQcmzeIPtrG"
   },
   "source": [
    "## 3.2 Análisis PCA [1 pts]\n"
   ]
  },
  {
   "cell_type": "markdown",
   "metadata": {
    "id": "2vMTJ8nRbmMe"
   },
   "source": [
    "Para acabar con nuestro análisis de los embeddings, vamos a realizar un proceso de PCA para reducir las dimensiones de los vectores resultantes y poder graficarlos en 2D."
   ]
  },
  {
   "cell_type": "code",
   "execution_count": 27,
   "metadata": {
    "id": "l9ROxo-lP-OY"
   },
   "outputs": [],
   "source": [
    "from sklearn.preprocessing import StandardScaler\n",
    "from sklearn.decomposition import PCA"
   ]
  },
  {
   "cell_type": "markdown",
   "metadata": {
    "id": "0qcipt5oP74r"
   },
   "source": [
    "3.2.1 Escalar los vectores y aplicar PCA para reducir a 2 las dimensiones"
   ]
  },
  {
   "cell_type": "code",
   "execution_count": 28,
   "metadata": {
    "id": "1co2NuRtF1BU"
   },
   "outputs": [
    {
     "name": "stdout",
     "output_type": "stream",
     "text": [
      "Dimensión de los vectores PCA\n",
      "my_embedding:\t (50, 2) \n",
      "bp_embedding:\t (50, 2)\n"
     ]
    }
   ],
   "source": [
    "sc = StandardScaler()\n",
    "\n",
    "my_sc = sc.fit_transform(my_v)\n",
    "bp_sc = sc.fit_transform(bp_v)\n",
    "\n",
    "pca = PCA(n_components=2)\n",
    "my_pca = pca.fit_transform(my_sc)\n",
    "bp_pca = pca.fit_transform(bp_sc)\n",
    "print('Dimensión de los vectores PCA\\nmy_embedding:\\t', my_pca.shape,\n",
    "      '\\nbp_embedding:\\t', bp_pca.shape)"
   ]
  },
  {
   "cell_type": "markdown",
   "metadata": {
    "id": "Pj4FLd8DaLsF"
   },
   "source": [
    "3.2.2 Grafica para ambos embeddings los vectores en un scatterplot. Añadele anotaciones con las notas del acorde y comenta el resultado: ¿Observas el efecto word2vect en las gráficas?"
   ]
  },
  {
   "cell_type": "markdown",
   "metadata": {
    "id": "lJDmLqpebnkI"
   },
   "source": [
    "Usa esta función para obtener un índice para los acordes y sus notas"
   ]
  },
  {
   "cell_type": "code",
   "execution_count": 29,
   "metadata": {
    "id": "ROgMjNOmbbvK"
   },
   "outputs": [],
   "source": [
    "def get_chord_dict():\n",
    "    chord_to_index = pickle.load(open(dict_path + chord_dict_name, 'rb'))\n",
    "    index_to_chord = pickle.load(open(dict_path + index_dict_name, 'rb'))\n",
    "    return chord_to_index, index_to_chord\n",
    "\n",
    "chord_to_index, idx_2_chord = get_chord_dict()"
   ]
  },
  {
   "cell_type": "code",
   "execution_count": 30,
   "metadata": {
    "id": "WSE2OSp9F2Va"
   },
   "outputs": [
    {
     "data": {
      "image/png": "[encoded data removed]",
      "text/plain": [
       "<Figure size 1224x504 with 2 Axes>"
      ]
     },
     "metadata": {
      "needs_background": "light"
     },
     "output_type": "display_data"
    }
   ],
   "source": [
    "fig, ax = plt.subplots(1, 2, figsize=(17, 7))\n",
    "\n",
    "my_plot = my_pca.reshape(2,50)\n",
    "bp_plot = bp_pca.reshape(2,50)\n",
    "\n",
    "ax[0].scatter(my_plot[0], my_plot[1], color='white')\n",
    "ax[0].set_title('my_embedding')\n",
    "ax[1].scatter(bp_plot[0], bp_plot[1], color='white')\n",
    "ax[1].set_title('bp_embedding')\n",
    "\n",
    "ax[0].annotate('<unk>', (my_plot[0][0], my_plot[1][0]), fontsize = 8)\n",
    "ax[1].annotate('<unk>', (bp_plot[0][0], bp_plot[1][0]), fontsize = 8)\n",
    "\n",
    "for i in range(1, 50):\n",
    "    ax[0].annotate([pm.note_number_to_name(idx_2_chord[i][j]) for j in range(len(idx_2_chord[i]))], (my_plot[0][i], my_plot[1][i]), fontsize = 8)\n",
    "    ax[1].annotate([pm.note_number_to_name(idx_2_chord[i][j]) for j in range(len(idx_2_chord[i]))], (bp_plot[0][i], bp_plot[1][i]), fontsize = 8)\n",
    "\n",
    "plt.tight_layout()"
   ]
  },
  {
   "cell_type": "markdown",
   "metadata": {
    "id": "4TLRoLomVjzP"
   },
   "source": [
    "3.2.3 Crea una función para calcular todas las distancias entre los primero 20 acordes. Luego haz una lista con las 10 distancias mínimas para ambos modelos. ¿Están relacionados estos acordes con distancias mínimas?"
   ]
  },
  {
   "cell_type": "code",
   "execution_count": 31,
   "metadata": {
    "id": "FLHzUPP9F5UJ",
    "scrolled": false
   },
   "outputs": [],
   "source": [
    "def getIndexes(dfObj, value):\n",
    "    '''https://thispointer.com/python-find-indexes-of-an-element-in-pandas-dataframe/'''\n",
    "    listOfPos = list()\n",
    "    # Get bool dataframe with True at positions where the given value exists\n",
    "    result = dfObj.isin([value])\n",
    "    seriesObj = result.any()\n",
    "    columnNames = list(seriesObj[seriesObj == True].index)\n",
    "    for col in columnNames:\n",
    "        rows = list(result[col][result[col] == True].index)\n",
    "        for row in rows:\n",
    "            listOfPos.append((row, col))\n",
    "    return listOfPos\n",
    "\n",
    "def distancias(your_pca, n, m):\n",
    "    d = [[0 for i in range(n)] for j in range(n)]\n",
    "    for i in range(n):\n",
    "        for j in range(n):\n",
    "            if i == j:\n",
    "                d[i][j] = None\n",
    "            else:\n",
    "                d[i][j] = (np.sqrt((your_pca[j][0] - your_pca[i][0])**2 + (your_pca[j][1] - your_pca[i][1])**2))\n",
    "    \n",
    "    cn = [str([str(pm.note_number_to_name(idx_2_chord[i][j])) for j in range(len(idx_2_chord[i]))]) for i in range(1, 20)]\n",
    "    cn.insert(0, \"['<unk>']\")\n",
    "    df = pd.DataFrame(d, columns = cn)\n",
    "    df.index = cn\n",
    "    min_a = np.array([i for i in np.reshape(d,(n*n)) if i is not None])\n",
    "    m_m = min_a[min_a.argsort()[:(m*2)]]\n",
    "    m_m = np.delete(m_m, range(0,m*2, 2))\n",
    "    ind = [(getIndexes(df, m_m[i])[0], m_m[i]) for i in range(m)]\n",
    "    return df, ind"
   ]
  },
  {
   "cell_type": "code",
   "execution_count": 32,
   "metadata": {},
   "outputs": [
    {
     "name": "stdout",
     "output_type": "stream",
     "text": [
      "Distancias entre los 10 acordes más cercanos entre sí:\n",
      "\n",
      "1 º:\t ['C-1', 'E-1', 'F-1'] \n",
      "\t [] \n",
      "\t 0.32939698565459613 \n",
      "\n",
      "2 º:\t ['C-1', 'G-1', 'B-1'] \n",
      "\t ['D-1', 'G-1', 'B-1'] \n",
      "\t 0.5522792699400324 \n",
      "\n",
      "3 º:\t [] \n",
      "\t ['F-1', 'G-1', 'A-1'] \n",
      "\t 0.6821425625435317 \n",
      "\n",
      "4 º:\t ['C-1', 'D-1', 'G-1'] \n",
      "\t ['D-1', 'G-1', 'B-1'] \n",
      "\t 0.771438887935561 \n",
      "\n",
      "5 º:\t ['D-1', 'F-1', 'G-1'] \n",
      "\t ['D-1', 'F-1', 'A-1'] \n",
      "\t 0.9285554302036254 \n",
      "\n",
      "6 º:\t ['C-1', 'E-1', 'A-1'] \n",
      "\t ['C-1', 'E-1', 'G-1'] \n",
      "\t 0.9594547636867163 \n",
      "\n",
      "7 º:\t ['C#-1', 'E-1', 'A-1'] \n",
      "\t ['F-1', 'G-1', 'B-1'] \n",
      "\t 0.9817516027043821 \n",
      "\n",
      "8 º:\t ['C-1', 'E-1', 'F-1'] \n",
      "\t ['F-1', 'G-1', 'A-1'] \n",
      "\t 0.9909023763443243 \n",
      "\n",
      "9 º:\t [] \n",
      "\t ['D-1', 'G-1', 'A-1'] \n",
      "\t 0.9973312211991725 \n",
      "\n",
      "10 º:\t ['C-1', 'E-1', 'F-1'] \n",
      "\t ['D-1', 'G-1', 'A-1'] \n",
      "\t 1.0091959525051957 \n",
      "\n"
     ]
    }
   ],
   "source": [
    "n = 20\n",
    "m = 10\n",
    "dist, minimos = distancias(my_pca, n, m)\n",
    "print('Distancias entre los', m, 'acordes más cercanos entre sí:\\n')\n",
    "for i in range(len(minimos)):\n",
    "    print(i+1,  'º:\\t', minimos[i][0][0], '\\n\\t', minimos[i][0][1], '\\n\\t', minimos[i][1], '\\n')"
   ]
  },
  {
   "cell_type": "markdown",
   "metadata": {},
   "source": [
    "<div class=\"alert alert-block alert-success\">\n",
    "<strong>Respuesta:</strong><br>\n",
    "\n",
    "<font color=#679532>Los acordes con distancias mínimas sí están relacionados. Por ejemplo, los acordes <b>['C-1', 'G-1', 'B-1']</b> y <b>['D-1', 'G-1', 'B-1']</b> están separados por una distancia de <b><i>0.552</b></i>, y tan solo difieren en la primera nota (el primero <b>C-1</b> y el segundo <b>D-1</b>), que son, además consecutivas. Por lo tanto, el sonido de ambos acordes es muy parecido.\n",
    "\n",
    "</div>"
   ]
  },
  {
   "cell_type": "markdown",
   "metadata": {
    "id": "PKXh0-X3mg70"
   },
   "source": [
    "# 4. Rueda de 5tas (Bonus Track) [0.5 pts]"
   ]
  },
  {
   "cell_type": "markdown",
   "metadata": {
    "id": "m3Ymmh_imljH"
   },
   "source": [
    "En este bonus track, y usando lo mismo que has usado para los apartados anteriores, podrás dibujar la rueda de quintas con datos entrenados sobre la misma base de datos, pero no hacer el shifteo de los acordes."
   ]
  },
  {
   "cell_type": "markdown",
   "metadata": {
    "id": "OyesH52p0QDZ"
   },
   "source": [
    "Usa los datos que encontrarás en la carpeta *models/chords/9671-Shifted_False...* para repetir el proceso del análisis de PCA"
   ]
  },
  {
   "cell_type": "markdown",
   "metadata": {
    "id": "ejP3t2sautBj"
   },
   "source": [
    "Una vez tienes los vectores, llama a las siguientes funciones para dibujar la rueda de quintas"
   ]
  },
  {
   "cell_type": "code",
   "execution_count": 33,
   "metadata": {
    "id": "_7ZU_OXZnxqX"
   },
   "outputs": [],
   "source": [
    "def get_chord_dict_no_shifted():\n",
    "    chord_to_index = pickle.load(open('data/chord_dict.pickle', 'rb'))\n",
    "    index_to_chord = pickle.load(open('data/index_dict.pickle', 'rb'))\n",
    "    return chord_to_index, index_to_chord\n",
    "\n",
    "chord_to_index_, idx_2_chord_ = get_chord_dict_no_shifted()"
   ]
  },
  {
   "cell_type": "code",
   "execution_count": 34,
   "metadata": {
    "id": "oTiU7UWtpnL2"
   },
   "outputs": [],
   "source": [
    "ddd={tuple((0,4,7)):'C',\n",
    "tuple((1,5,8)):'C#',\n",
    "tuple((2,6,9)):'D',\n",
    "tuple((3,7,10)):'D#',\n",
    "tuple((4,8,11)):'E',\n",
    "tuple((0,5,9)):'F',\n",
    "tuple((1,6,10)):'F#',\n",
    "tuple((2,7,11)):'G',\n",
    "tuple((0,3,8)):'G#',\n",
    "tuple((1,4,9)):'A',\n",
    "tuple((2,5,10)):'A#',\n",
    "tuple((3,6,11)):'B'}\n",
    "\n",
    "\n",
    "def plot_5th_circle(X_chords_2d):\n",
    "    fig, ax = plt.subplots()\n",
    "    fig.set_size_inches(8, 6)\n",
    "    \n",
    "    plt.tick_params(labelsize=12)\n",
    "    \n",
    "    style = dict(size=12, color='black')\n",
    "    \n",
    "    for i in range(0,len(idx_2_chord_)):\n",
    "        try:\n",
    "            ax.text(-X_chords_2d[i,0]-0.32,X_chords_2d[i,1]+0.11, ddd[idx_2_chord_[i]],**style)\n",
    "            ax.scatter(-X_chords_2d[i,0],X_chords_2d[i,1], c=\"blue\", marker=\"*\")\n",
    "            \n",
    "        except:\n",
    "            pass\n",
    "    plt.show()"
   ]
  },
  {
   "cell_type": "code",
   "execution_count": 35,
   "metadata": {
    "id": "mGBGU7LruOes"
   },
   "outputs": [
    {
     "data": {
      "image/png": "[encoded data removed]",
      "text/plain": [
       "<Figure size 576x432 with 1 Axes>"
      ]
     },
     "metadata": {
      "needs_background": "light"
     },
     "output_type": "display_data"
    }
   ],
   "source": [
    "plot_5th_circle(my_pca) #pasa los vectores luego del análisis de PCA"
   ]
  }
 ],
 "metadata": {
  "colab": {
   "collapsed_sections": [
    "YO1mZRrP4FT2"
   ],
   "name": "2021-2_M2.875_PEC3_Enunciado.ipynb",
   "provenance": []
  },
  "kernelspec": {
   "display_name": "Python 3",
   "language": "python",
   "name": "python3"
  },
  "language_info": {
   "codemirror_mode": {
    "name": "ipython",
    "version": 3
   },
   "file_extension": ".py",
   "mimetype": "text/x-python",
   "name": "python",
   "nbconvert_exporter": "python",
   "pygments_lexer": "ipython3",
   "version": "3.8.8"
  }
 },
 "nbformat": 4,
 "nbformat_minor": 1
}
